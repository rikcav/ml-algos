{
 "cells": [
  {
   "cell_type": "code",
   "execution_count": 90,
   "id": "bee58730-7ff5-468d-a3ad-9a3e8300e97f",
   "metadata": {},
   "outputs": [],
   "source": [
    "import pandas as pd\n",
    "import numpy as np"
   ]
  },
  {
   "cell_type": "code",
   "execution_count": 91,
   "id": "b037a140-bcca-4b54-82dc-da6945fb2e13",
   "metadata": {},
   "outputs": [],
   "source": [
    "from sklearn.datasets import fetch_california_housing\n",
    "\n",
    "data = fetch_california_housing().data\n",
    "feature_names = fetch_california_housing().feature_names\n",
    "\n",
    "X = pd.DataFrame(data, columns=feature_names)\n",
    "y = fetch_california_housing().target"
   ]
  },
  {
   "cell_type": "code",
   "execution_count": 92,
   "id": "21c4bad1-fd1d-4c88-bcc5-bfa8e8bc4689",
   "metadata": {},
   "outputs": [],
   "source": [
    "from sklearn.model_selection import train_test_split\n",
    "\n",
    "X_train, X_test, y_train, y_test = train_test_split(X, y, test_size=0.5, random_state=0)"
   ]
  },
  {
   "cell_type": "code",
   "execution_count": 102,
   "id": "69cdefbd-1a51-4fb4-8ffc-558f85322b07",
   "metadata": {},
   "outputs": [],
   "source": [
    "from sklearn.ensemble import RandomForestRegressor\n",
    "\n",
    "forest = RandomForestRegressor(n_estimators=300, min_samples_leaf=2, random_state=0, n_jobs=-1).fit(X_train, y_train)"
   ]
  },
  {
   "cell_type": "code",
   "execution_count": 103,
   "id": "c8500ef7-3544-4099-be10-8a4b8eec6143",
   "metadata": {},
   "outputs": [],
   "source": [
    "y_pred = forest.predict(X_test)"
   ]
  },
  {
   "cell_type": "code",
   "execution_count": 117,
   "id": "c01e96ee-286a-4558-9051-57a54793ef36",
   "metadata": {},
   "outputs": [
    {
     "name": "stdout",
     "output_type": "stream",
     "text": [
      "MAE: 0.5854803727480957\n",
      "MSE: 0.527384322237218\n",
      "R2: 0.7923297721823538\n"
     ]
    }
   ],
   "source": [
    "from sklearn.metrics import mean_absolute_error, mean_squared_error, r2_score\n",
    "\n",
    "print(f'MAE: {np.sqrt(mean_absolute_error(y_test, y_pred))}')\n",
    "print(f'MSE: {np.sqrt(mean_squared_error(y_test, y_pred))}')\n",
    "print(f'R2: {r2_score(y_test, y_pred)}')"
   ]
  }
 ],
 "metadata": {
  "kernelspec": {
   "display_name": "Python 3 (ipykernel)",
   "language": "python",
   "name": "python3"
  },
  "language_info": {
   "codemirror_mode": {
    "name": "ipython",
    "version": 3
   },
   "file_extension": ".py",
   "mimetype": "text/x-python",
   "name": "python",
   "nbconvert_exporter": "python",
   "pygments_lexer": "ipython3",
   "version": "3.11.7"
  }
 },
 "nbformat": 4,
 "nbformat_minor": 5
}
